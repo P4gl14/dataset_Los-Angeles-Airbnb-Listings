{
  "cells": [
    {
      "cell_type": "markdown",
      "metadata": {
        "id": "view-in-github",
        "colab_type": "text"
      },
      "source": [
        "<a href=\"https://colab.research.google.com/github/P4gl14/dataset_Los-Angeles-Airbnb-Listings/blob/main/dataset_analisi_Los_Angeles_Airbnb_Listings.ipynb\" target=\"_parent\"><img src=\"https://colab.research.google.com/assets/colab-badge.svg\" alt=\"Open In Colab\"/></a>"
      ]
    },
    {
      "cell_type": "markdown",
      "metadata": {
        "id": "LoqpH-S95P7K"
      },
      "source": [
        "[Link Dataset Kaggle](https://www.kaggle.com/datasets/oscarbatiz/los-angeles-airbnb-listings?select=listings.csv) ||| [GitHub Repository](https://github.com/P4gl14/dataset_Los-Angeles-Airbnb-Listings/tree/main)\n",
        "\n",
        "[Documentazione MathPlot](https://matplotlib.org/) ||| [Documentazione Folium](https://python-visualization.github.io/folium/latest/)"
      ]
    },
    {
      "cell_type": "markdown",
      "metadata": {
        "id": "KagK8F-dM3h2"
      },
      "source": [
        "Da eseguire subito"
      ]
    },
    {
      "cell_type": "code",
      "execution_count": null,
      "metadata": {
        "id": "CoaW2NJiJPKu"
      },
      "outputs": [],
      "source": [
        "pip install translate"
      ]
    },
    {
      "cell_type": "markdown",
      "metadata": {
        "id": "gRV6SmP-M6M3"
      },
      "source": [
        "Da eseguire subito"
      ]
    },
    {
      "cell_type": "code",
      "execution_count": 36,
      "metadata": {
        "id": "YE1qOTchBfPR"
      },
      "outputs": [],
      "source": [
        "# Importo le librerie necessarie\n",
        "import requests\n",
        "import json\n",
        "from translate import Translator\n",
        "import matplotlib.pyplot as plt\n",
        "\n",
        "# Inizializzo il traduttore\n",
        "translator = Translator (to_lang=\"it\")\n",
        "# Importo il dataset dalla repository di github\n",
        "response = requests.get('https://raw.githubusercontent.com/P4gl14/dataset_Los-Angeles-Airbnb-Listings/refs/heads/main/listings.json')\n",
        "data = response.json()"
      ]
    },
    {
      "cell_type": "markdown",
      "metadata": {
        "id": "kdQKekS1iSUt"
      },
      "source": [
        "Posso stampare un oggetto del file jsno così da vedere l'organizzazione delle informazioni"
      ]
    },
    {
      "cell_type": "code",
      "execution_count": null,
      "metadata": {
        "id": "7SArJ5_Gf7jG"
      },
      "outputs": [],
      "source": [
        "data[0]"
      ]
    },
    {
      "cell_type": "markdown",
      "metadata": {
        "id": "KfqxjBVEiDmJ"
      },
      "source": [
        "Filtrare i bnb in base al range di valutazione passato"
      ]
    },
    {
      "cell_type": "code",
      "execution_count": null,
      "metadata": {
        "id": "1TxWPWgUpK1K"
      },
      "outputs": [],
      "source": [
        "# Funzione per il controllo del range di prezzo\n",
        "def bnb_val_range(bnb, min, max):\n",
        "    # Se non ha una valutazione e si stanno cercando quelli senza valutazione\n",
        "    if bnb['review_scores_rating'] is None and max is None and min is None:\n",
        "        return bnb  # Restituisce il BnB\n",
        "\n",
        "    # Altrimenti\n",
        "    else:\n",
        "        # Se ha una valutazione e si stanno cercando delle valutazioni valide\n",
        "        if min is not None and max is not None and bnb['review_scores_rating'] is not None:\n",
        "\n",
        "            # Se la valutazione rientra nel range specificato\n",
        "            if float(bnb['review_scores_rating']) >= min and float(bnb['review_scores_rating']) <= max:\n",
        "                return bnb  # Restituisce il BnB\n",
        "\n",
        "    return None  # Restituisce None se la valutazione non rientra nel range o se i criteri non sono soddisfatti\n",
        "\n",
        "\n",
        "# Inizializza una lista vuota per contenere i BnB filtrati\n",
        "filtered_val_list = []\n",
        "\n",
        "\n",
        "# Min e Max valutazione che deve avere il BnB\n",
        "\n",
        "min = input('Inserisci il numero da cui partirà il range (se si vogliono quelli senza recensioni inserire \"None\"): ')  # Chiede all'utente di inserire il valore minimo del range\n",
        "\n",
        "max = input('Inserisci il numero a cui finirà il range (se si vogliono quelli senza recensioni inserire \"None\"): ')  # Chiede all'utente di inserire il valore massimo del range\n",
        "\n",
        "\n",
        "# Controllo se il valore inserito è None oppure un numero e quindi lo converto\n",
        "if min == \"None\":\n",
        "    min = None  # Imposta 'min' a None se l'utente ha inserito \"None\"\n",
        "else:\n",
        "    min = float(min)  # Converte 'min' in un float se l'utente ha inserito un numero\n",
        "\n",
        "if max == \"None\":\n",
        "    max = None  # Imposta 'max' a None se l'utente ha inserito \"None\"\n",
        "else:\n",
        "    max = float(max)  # Converte 'max' in un float se l'utente ha inserito un numero\n",
        "\n",
        "\n",
        "# Itera su ogni elemento del dataset \"data\"\n",
        "for bnb in data:\n",
        "    # Se il BnB rientra nel range specificato dalla funzione\n",
        "    if bnb_val_range(bnb, min, max) is not None:\n",
        "        filtered_val_list.append(bnb_val_range(bnb, min, max))  # Aggiunge il BnB filtrato alla lista\n",
        "\n",
        "\n",
        "# Chiede all'utente di scegliere se stampare in formato JSON\n",
        "typechoice = input('Inserisci \"y\" se li vuoi stampati in formato oggetto json: ')\n",
        "\n",
        "\n",
        "# Itera su ogni BnB nella lista filtrata\n",
        "for bnb in filtered_val_list:\n",
        "    # Se l'utente ha scelto il formato JSON\n",
        "    if typechoice == 'y':\n",
        "        print(json.dumps(bnb, indent=4))  # Stampa il BnB in formato JSON con indentazione per leggibilità\n",
        "\n",
        "    # Altrimenti\n",
        "    else:\n",
        "        print(bnb)  # Stampa il BnB nel formato standard\n"
      ]
    },
    {
      "cell_type": "markdown",
      "metadata": {
        "id": "s4Ne5yKe6ayH"
      },
      "source": [
        "Ricerca del bnb attraverso il nome dell'host"
      ]
    },
    {
      "cell_type": "code",
      "execution_count": null,
      "metadata": {
        "id": "yvNA4ZL76aUQ"
      },
      "outputs": [],
      "source": [
        "# Chiede all'utente di inserire il nome dell'host e lo memorizza nella variabile 'host_name'\n",
        "host_name = input(\"Inserisci il nome dell'host: \")\n",
        "\n",
        "\n",
        "# Inizializza una variabile booleana 'found' a False per tenere traccia se l'host è stato trovato\n",
        "found = False\n",
        "\n",
        "\n",
        "# Itera su ogni elemento del dataset \"data\"\n",
        "for bnb in data:\n",
        "\n",
        "    # Se il nome dell'host del BnB corrisponde a quello inserito dall'utente\n",
        "    if bnb[\"host_name\"] == host_name:\n",
        "        print(f\"L'host {bnb['host_name']} che solitamente risponde {translator.translate(bnb['host_response_time'])} ha il BnB: {bnb['name']} situato nel quartiere {bnb['neighbourhood_cleansed']}\")  # Stampa le informazioni del BnB in un formato leggibile\n",
        "\n",
        "        found = True  # Imposta 'found' a True perché l'host è stato trovato\n",
        "\n",
        "# Se il BnB non viene trovato\n",
        "if not found:\n",
        "    print(\"ERRORE: BnB non trovato\")  # Stampa un messaggio di errore indicando che il BnB non è stato trovato\n"
      ]
    },
    {
      "cell_type": "markdown",
      "metadata": {
        "id": "d_t0Z_AOAORU"
      },
      "source": [
        "Ricerca del bnb in base al range di prezzo"
      ]
    },
    {
      "cell_type": "code",
      "execution_count": null,
      "metadata": {
        "id": "n_6YduWiANhP"
      },
      "outputs": [],
      "source": [
        "# Funzione per il controllo del range di prezzo\n",
        "def bnb_price_range(bnb, min, max):\n",
        "    # Se il prezzo del BnB è None\n",
        "    if bnb[\"price\"] is None:\n",
        "        return None  # Restituisce None\n",
        "\n",
        "    # Altrimenti\n",
        "    else:\n",
        "        # Se il prezzo è nel range specificato\n",
        "        if float(bnb[\"price\"]) >= min and float(bnb[\"price\"]) <= max:\n",
        "            return bnb  # Restituisce il BnB\n",
        "\n",
        "    return None  # Restituisce None se il prezzo non è nel range\n",
        "\n",
        "\n",
        "# Imposto prezzo minimo e massimo\n",
        "\n",
        "min = float(input(\"Inserisci il prezzo minimo: \"))  # Chiede all'utente di inserire il prezzo minimo e lo converte in float\n",
        "\n",
        "max = float(input(\"Inserisci il prezzo massimo: \"))  # Chiede all'utente di inserire il prezzo massimo e lo converte in float\n",
        "\n",
        "\n",
        "# La lista in cui salvare i BnB che rientrano nella condizione\n",
        "filtered_price_list = []  # Inizializza una lista vuota per contenere i BnB filtrati\n",
        "\n",
        "\n",
        "# Itera su ogni elemento del dataset \"data\"\n",
        "for bnb in data:\n",
        "    # Se il BnB rientra nel range di prezzo specificato\n",
        "    if bnb_price_range(bnb, min, max) is not None:\n",
        "        filtered_price_list.append(bnb)  # Aggiunge il BnB alla lista filtrata\n",
        "\n",
        "\n",
        "# Chiede all'utente di scegliere se stampare in formato JSON\n",
        "typechoice = input('Inserisci \"y\" se li vuoi stampati in formato oggetto json: ')\n",
        "\n",
        "\n",
        "# Itera su ogni BnB nella lista filtrata\n",
        "for bnb in filtered_price_list:\n",
        "    # Se l'utente ha scelto il formato JSON\n",
        "    if typechoice == 'y':\n",
        "        print(json.dumps(bnb, indent=4))  # Stampa il BnB in formato JSON con indentazione per leggibilità\n",
        "\n",
        "    # Altrimenti\n",
        "    else:\n",
        "        print(bnb)  # Stampa il BnB nel formato standard\n"
      ]
    },
    {
      "cell_type": "markdown",
      "metadata": {
        "id": "cA-VuSeLIEro"
      },
      "source": [
        "Ricerca bnb in base al vicinato"
      ]
    },
    {
      "cell_type": "code",
      "execution_count": null,
      "metadata": {
        "id": "koBZiERhIO8M"
      },
      "outputs": [],
      "source": [
        "# Chiede all'utente di inserire il nome del quartiere da cercare e lo memorizza nella variabile 'neighbourhood_name'\n",
        "neighbourhood_name = input(\"Inserisci il nome dell'host: \")\n",
        "\n",
        "\n",
        "# Inizializza una variabile booleana 'found' a False per tenere traccia se il quartiere è stato trovato\n",
        "found = False\n",
        "\n",
        "\n",
        "# Itera su ogni elemento del dataset \"data\"\n",
        "for bnb in data:\n",
        "    # Se il nome del quartiere del BnB corrisponde a quello inserito dall'utente\n",
        "    if bnb[\"neighbourhood_cleansed\"] == neighbourhood_name:\n",
        "        print(f\"L'host {bnb['host_name']} ha il BnB situato nel quartiere {bnb['neighbourhood_cleansed']}: {bnb['name']} disponibile {bnb['availability_365']} giorni l'anno\")  # Stampa le informazioni del BnB in un formato leggibile\n",
        "        found = True  # Imposta 'found' a True perché il quartiere è stato trovato\n",
        "\n",
        "# Se il BnB non viene trovato\n",
        "if not found:\n",
        "    print(\"ERRORE: BnB non trovato\")  # Stampa un messaggio di errore indicando che il BnB non è stato trovato\n"
      ]
    },
    {
      "cell_type": "markdown",
      "metadata": {
        "id": "2rbIaJr_LAPH"
      },
      "source": [
        "Ricerca i bnb prenotabili in quel momento"
      ]
    },
    {
      "cell_type": "code",
      "execution_count": null,
      "metadata": {
        "id": "t-_kCYGtLAkg"
      },
      "outputs": [],
      "source": [
        "# Chiede all'utente di inserire 'y' se vuole i BnB stampati in formato JSON\n",
        "typechoice = input('Inserisci \"y\" se li vuoi stampati in formato oggetto json: ')\n",
        "\n",
        "\n",
        "# Stampa un messaggio introduttivo\n",
        "print(\"I bnb prenotabili sono:\")\n",
        "\n",
        "# Itera su ogni elemento del dataset \"data\"\n",
        "for bnb in data:\n",
        "    # Se l'utente ha scelto il formato JSON e se il BnB è prenotabile istantaneamente\n",
        "    if typechoice == 'y' and bnb['instant_bookable'] == \"t\":\n",
        "        print(json.dumps(bnb, indent=4))  # Stampa il BnB in formato JSON con indentazione per leggibilità\n",
        "\n",
        "    # Altrimenti\n",
        "    else:\n",
        "        # Se il BnB è prenotabile istantaneamente\n",
        "        if bnb['instant_bookable'] == \"t\":\n",
        "            print(bnb)  # Stampa il BnB nel formato standard\n"
      ]
    },
    {
      "cell_type": "markdown",
      "metadata": {
        "id": "EAI2qUN_NB4D"
      },
      "source": [
        "Grafico con il numero di bnb in base al range del prezzo da 2500 a 25000 con salto di 2500\n"
      ]
    },
    {
      "cell_type": "code",
      "execution_count": null,
      "metadata": {
        "id": "XnXMsZCVNSuN"
      },
      "outputs": [],
      "source": [
        "# Funzione per il controllo del range di prezzo\n",
        "def bnb_price_range(bnb, min, max):\n",
        "    # Se il prezzo del BnB è None\n",
        "    if bnb[\"price\"] is None:\n",
        "        return None  # Restituisce None\n",
        "\n",
        "    # Altrimenti\n",
        "    else:\n",
        "        # Se il prezzo è nel range specificato\n",
        "        if float(bnb[\"price\"]) >= min and float(bnb[\"price\"]) <= max:\n",
        "            return bnb  # Restituisce il BnB\n",
        "\n",
        "    return None  # Restituisce None se il prezzo non è nel range\n",
        "\n",
        "\n",
        "# Imposto il salto che avrà il range\n",
        "jump = 2500  # Imposta l'intervallo del range di prezzo a 2500\n",
        "\n",
        "\n",
        "# Imposto la lista che andrà a contenere i range ed i corrispettivi valori\n",
        "graphic = []  # Inizializza una lista vuota per contenere i range di prezzo e i contatori\n",
        "\n",
        "\n",
        "# Itera da 2 a 10 per creare i range di prezzo\n",
        "for i in range(2, 11):\n",
        "\n",
        "    # Aggiunge alla lista i range di prezzo e inizializza i contatori a 0\n",
        "    graphic.append([f'{(i-1)*jump} - {i*jump}', 0])\n",
        "\n",
        "    # Itera su ogni elemento del dataset \"data\"\n",
        "    for bnb in data:\n",
        "        # Se il bnb rientra nel range di prezzo\n",
        "        if bnb_price_range(bnb, (i-1)*jump, i*jump) is not None:\n",
        "            graphic[i-2][1] += 1  # Incrementa il contatore per il range di prezzo corrispondente\n",
        "\n",
        "\n",
        "# Crea una lista delle etichette per l'asse Y\n",
        "labels = [str(graphic[i][0]) for i in range(0, len(graphic), 1)]\n",
        "\n",
        "\n",
        "# Crea una lista dei contatori per l'asse X\n",
        "counts = [int(graphic[i][1]) for i in range(0, len(graphic), 1)]\n",
        "\n",
        "\n",
        "# Imposto il grafico\n",
        "\n",
        "fig, ax = plt.subplots()  # Crea una figura e un asse per il grafico\n",
        "\n",
        "ax.barh(labels, counts)  # Crea un grafico a barre orizzontali con le etichette e i contatori\n",
        "\n",
        "ax.bar_label(ax.containers[0])  # Aggiunge le etichette delle barre nel grafico\n",
        "\n",
        "\n",
        "# Scrivo le stringhe delle etichette: del titolo e dell'asse x/y\n",
        "\n",
        "plt.ylabel(\"Range di prezzo\")  # Etichetta dell'asse Y\n",
        "\n",
        "plt.xlabel(\"Numero di BnB\")  # Etichetta dell'asse X\n",
        "\n",
        "plt.title(\"Bnb in base al range di prezzo\")  # Titolo del grafico\n",
        "\n",
        "\n",
        "# Disegno il grafico\n",
        "plt.show()  # Mostra il grafico\n"
      ]
    },
    {
      "cell_type": "markdown",
      "metadata": {
        "id": "ab9TXnxAZNjS"
      },
      "source": [
        "Grafico con il numero di bnb in base al range del prezzo da 0 a 2000 con salto di 100"
      ]
    },
    {
      "cell_type": "code",
      "execution_count": null,
      "metadata": {
        "id": "vBSEbkohYdDA"
      },
      "outputs": [],
      "source": [
        "# Funzione per il controllo del range di prezzo\n",
        "def bnb_price_range(bnb, min, max):\n",
        "    # Se il prezzo del BnB è None\n",
        "    if bnb[\"price\"] is None:\n",
        "        return None  # Restituisce None\n",
        "\n",
        "    # Altrimenti\n",
        "    else:\n",
        "        # Se il prezzo è nel range specificato\n",
        "        if float(bnb[\"price\"]) >= min and float(bnb[\"price\"]) <= max:\n",
        "            return bnb  # Restituisce il BnB\n",
        "\n",
        "    return None  # Restituisce None se il prezzo non è nel range\n",
        "\n",
        "\n",
        "# Imposta l'intervallo del range di prezzo a 100\n",
        "jump = 100\n",
        "\n",
        "\n",
        "# Inizializza una lista vuota per contenere i range di prezzo e i contatori\n",
        "graphic = []\n",
        "\n",
        "\n",
        "# Itera da 1 a 20 per creare 20 range di prezzo\n",
        "for i in range(1, 21):\n",
        "\n",
        "    # Aggiunge alla lista i range di prezzo e inizializza i contatori a 0\n",
        "    graphic.append([f'{(i-1)*jump} - {i*jump}', 0])\n",
        "\n",
        "    # Itera su ogni elemento del dataset \"data\"\n",
        "    for bnb in data:\n",
        "        # Se il bnb rientra nel range di prezzo\n",
        "        if bnb_price_range(bnb, (i-1)*jump, i*jump) != None:\n",
        "            graphic[i-1][1] = graphic[i-1][1] + 1  # Incrementa il contatore di 1 per il range di prezzo corrispondente\n",
        "\n",
        "\n",
        "# Inserisco le etichette (asse y)\n",
        "labels = [str(graphic[i][0]) for i in range(0, len(graphic), 1)]  # Crea una lista delle etichette per l'asse Y\n",
        "\n",
        "\n",
        "# Inserisco il counter (asse x)\n",
        "counts = [int(graphic[i][1]) for i in range(0, len(graphic), 1)]  # Crea una lista dei contatori per l'asse X\n",
        "\n",
        "\n",
        "# Imposto il grafico\n",
        "\n",
        "fig, ax = plt.subplots()  # Crea una figura e un asse per il grafico\n",
        "\n",
        "ax.barh(labels, counts)  # Crea un grafico a barre orizzontali con le etichette e i contatori\n",
        "\n",
        "ax.bar_label(ax.containers[0])  # Aggiunge le etichette delle barre nel grafico\n",
        "\n",
        "\n",
        "# Scrivo le stringhe delle etichette: del titolo e dell'asse x/y\n",
        "\n",
        "plt.ylabel(\"Range di prezzo\")  # Etichetta dell'asse Y\n",
        "\n",
        "plt.xlabel(\"Numero di BnB\")  # Etichetta dell'asse X\n",
        "\n",
        "plt.title(\"Bnb in base al range di prezzo\")  # Titolo del grafico\n",
        "\n",
        "\n",
        "# Disegno il grafico\n",
        "plt.show()  # Mostra il grafico\n"
      ]
    },
    {
      "cell_type": "markdown",
      "metadata": {
        "id": "z-7DWcsmb_r-"
      },
      "source": [
        "Grafico con il numero dei bnb in base al quartiere (pazientare leggermente perchè i quartieri non sono pochi)"
      ]
    },
    {
      "cell_type": "code",
      "execution_count": null,
      "metadata": {
        "id": "SVFeB5eBcEa2"
      },
      "outputs": [],
      "source": [
        "# Creare un dizionario per contare le occorrenze dei quartieri\n",
        "bnb_neighbourhood_count = {}\n",
        "\n",
        "\n",
        "# Itera su ogni elemento del dataset \"data\"\n",
        "for bnb in data:\n",
        "\n",
        "  # Estrae il nome del quartiere dall'elemento corrente\n",
        "  neighbourhood = bnb['neighbourhood_cleansed']\n",
        "\n",
        "  # Se il quartiere è già nel dizionario\n",
        "  if neighbourhood in bnb_neighbourhood_count:\n",
        "    bnb_neighbourhood_count[neighbourhood] += 1  # Incrementa il contatore di 1\n",
        "\n",
        "  # Altrimenti\n",
        "  else:\n",
        "    bnb_neighbourhood_count[neighbourhood] = 1  # Aggiunge il quartiere al dizionario con un contatore iniziale di 1\n",
        "\n",
        "\n",
        "# Convertire il dizionario in liste per disegnare il grafico\n",
        "\n",
        "bnb_neighbourhood_list = list(bnb_neighbourhood_count.keys())  # Ottiene la lista dei quartieri (chiavi del dizionario)\n",
        "\n",
        "bnb_neighbourhood_count_list = list(bnb_neighbourhood_count.values())  # Ottiene la lista dei contatori di BnB (valori del dizionario)\n",
        "\n",
        "\n",
        "# Impostare il grafico\n",
        "\n",
        "fig, ax = plt.subplots(figsize=(16, 80))  # Crea una figura e un asse per il grafico, impostando le dimensioni della figura\n",
        "\n",
        "ax.barh(bnb_neighbourhood_list, bnb_neighbourhood_count_list)  # Crea un grafico a barre orizzontali con le liste dei quartieri e dei contatori\n",
        "\n",
        "ax.bar_label(ax.containers[0])  # Aggiunge le etichette delle barre nel grafico\n",
        "\n",
        "\n",
        "# Ridimensionare i margini sull'asse y\n",
        "ax.set_ylim(-0.5, len(bnb_neighbourhood_list) - 0.5)  # Imposta i limiti dell'asse y per evitare che le etichette siano tagliate\n",
        "\n",
        "\n",
        "# Scrivere le stringhe delle etichette: del titolo e dell'asse x/y\n",
        "\n",
        "plt.ylabel(\"Quartiere\")  # Etichetta dell'asse Y\n",
        "\n",
        "plt.xlabel(\"Numero di BnB\")  # Etichetta dell'asse X\n",
        "\n",
        "plt.title(\"Bnb in base al quartiere\")  # Titolo del grafico\n",
        "\n",
        "\n",
        "# Visualizza il grafico\n",
        "plt.show()  # Mostra il grafico\n"
      ]
    },
    {
      "cell_type": "markdown",
      "metadata": {
        "id": "JKVQbdlzn3JL"
      },
      "source": [
        "Grafico con il numero di bnb in base alla valutazione"
      ]
    },
    {
      "cell_type": "code",
      "execution_count": null,
      "metadata": {
        "id": "giYfBwMIoIWc"
      },
      "outputs": [],
      "source": [
        "# Definisci una funzione per convertire il rating in stringa\n",
        "def input_rating(rating):\n",
        "\n",
        "    # Se il rating è None (nessuno), restituisce \"None\" come stringa\n",
        "    if rating is None:\n",
        "      return str(rating)\n",
        "\n",
        "    # Altrimenti, converte il rating in un intero per non avere la parte decimale e lo restituisce come stringa\n",
        "    return str(int(rating))\n",
        "\n",
        "\n",
        "# Inizializza un dizionario per contare il numero di BnB per ciascuna valutazione\n",
        "bnb_rating_count = {}\n",
        "\n",
        "\n",
        "# Itera su ogni elemento del dataset \"data\"\n",
        "for bnb in data:\n",
        "\n",
        "    # Converte il rating in stringa\n",
        "    rating = input_rating(bnb['review_scores_rating'])\n",
        "\n",
        "    # Se il rating è già nel dizionario\n",
        "    if rating in bnb_rating_count:\n",
        "        bnb_rating_count[rating] += 1  # Incrementa il contatore di 1\n",
        "\n",
        "    # Altrimenti\n",
        "    else:\n",
        "        bnb_rating_count[rating] = 1  # Aggiunge il rating al dizionario con un contatore iniziale di 1\n",
        "\n",
        "\n",
        "# Inizializza le liste per le etichette del grafico e i contatori delle valutazioni da inserire anchesse nel grafico\n",
        "bnb_rating_list = []\n",
        "bnb_rating_count_list = []\n",
        "\n",
        "\n",
        "# Itera sui range delle valutazioni da 0 a 5\n",
        "for i in range(0, 6, 1):\n",
        "\n",
        "    # Aggiunge le etichette delle valutazioni alla lista\n",
        "    bnb_rating_list.append(f\"{i} - {(i + 0.99) if (i != 5) else i}\")\n",
        "\n",
        "    # Aggiunge il numero di BnB per ciascuna valutazione alla lista dei contatori\n",
        "    bnb_rating_count_list.append(bnb_rating_count[f'{i}'])\n",
        "\n",
        "\n",
        "# Impostare il grafico\n",
        "\n",
        "fig, ax = plt.subplots()  # Crea una figura e un asse per il grafico\n",
        "\n",
        "ax.bar(bnb_rating_list, bnb_rating_count_list)  # Crea un grafico a barre verticali con le liste delle valutazioni e dei contatori\n",
        "\n",
        "ax.bar_label(ax.containers[0])  # Aggiunge le etichette delle barre nel grafico\n",
        "\n",
        "\n",
        "# Scrivere le stringhe delle etichette: del titolo e dell'asse x/y\n",
        "\n",
        "plt.ylabel(\"Numero di BnB\")  # Etichetta dell'asse Y\n",
        "\n",
        "plt.xlabel(\"Valutazione\")  # Etichetta dell'asse X\n",
        "\n",
        "plt.title(\"Bnb in base alla valutazione\")  # Titolo del grafico\n",
        "\n",
        "\n",
        "# Visualizza il grafico\n",
        "plt.show()  # Mostra il grafico\n"
      ]
    },
    {
      "cell_type": "markdown",
      "source": [
        "Mappa interattiva con folium che rappresenta i bnb che rientrano in determinati requisiti e organizzati in base alla valutazione (range intero da 1 a 5) (pazientare un minimo perchè deve caricare fino a 1000 marker per valutazione)"
      ],
      "metadata": {
        "id": "LRBK-8YHpq_Z"
      }
    },
    {
      "cell_type": "code",
      "source": [
        "# Importa la libreria Folium per creare mappe interattive\n",
        "import folium\n",
        "# Importa il plugin MarkerCluster per raggruppare i marker\n",
        "from folium.plugins import MarkerCluster\n",
        "\n",
        "\n",
        "# Definisci una funzione per convertire il rating in stringa\n",
        "def input_rating(rating):\n",
        "\n",
        "    # Se il rating è None (nessuno), restituisce \"None\" come stringa\n",
        "    if rating is None:\n",
        "      return str(rating)\n",
        "\n",
        "    # Altrimenti, converte il rating in un intero per non avere la parte decimale e lo restituisce come stringa\n",
        "    return str(int(rating))\n",
        "\n",
        "\n",
        "# Crea una mappa centrata su Los Angeles\n",
        "mappa = folium.Map(location=[34.0522, -118.2437], zoom_start=8)  # Imposta la posizione centrale e il livello di zoom\n",
        "\n",
        "\n",
        "# Aggiungi un cerchio intorno a Los Angeles\n",
        "folium.Circle(\n",
        "\n",
        "    radius=100000,  # Raggio del cerchio in metri (100 km)\n",
        "\n",
        "    location=[34.0522, -118.2437],  # Coordinate del centro del cerchio\n",
        "\n",
        "    color=\"blue\",  # Colore del bordo del cerchio\n",
        "\n",
        "    fill=True,  # Riempe l'interno del cerchio\n",
        "\n",
        "    fill_color=\"blue\",  # Colore del riempimento del cerchio\n",
        "\n",
        "    fill_opacity=0.2  # Livello di trasparenza del riempimento (0.2 per maggiore trasparenza)\n",
        "\n",
        ").add_to(mappa)  # Aggiunge il cerchio alla mappa\n",
        "\n",
        "\n",
        "# Crea un gruppo di cluster per ogni valutazione\n",
        "marker_clusters = {}\n",
        "marker_counters = {}  # Contatori per limitare a 10 marker per gruppo\n",
        "\n",
        "\n",
        "# Ciclo da 1 a 5 per creare gruppi di cluster per ciascuna valutazione\n",
        "for i in range(1, 6):\n",
        "    marker_clusters[str(i)] = MarkerCluster(name=f\"Valutazione {i}\").add_to(mappa)  # Crea un MarkerCluster e lo aggiunge alla mappa\n",
        "    marker_counters[str(i)] = 0  # Inizializza il contatore a 0 per ogni gruppo\n",
        "\n",
        "\n",
        "# Itera su ogni elemento del dataset \"data\"\n",
        "for bnb in data:\n",
        "\n",
        "    if bnb['latitude'] is not None and bnb['longitude'] is not None and bnb['price'] is not None and bnb['name'] is not None and bnb['neighbourhood_cleansed'] is not None:\n",
        "\n",
        "        # Controlla che i dati necessari (latitudine, longitudine, prezzo, nome e quartiere) non siano None\n",
        "        rating = input_rating(bnb['review_scores_rating'])  # Converte il rating in stringa\n",
        "\n",
        "        if rating in marker_clusters and marker_counters[rating] < 1000:  # Controlla se il rating è nel gruppo dei cluster e se il contatore è inferiore a 1000\n",
        "\n",
        "          # Crea il contenuto HTML del popup con stile personalizzato (grassetto e dimensione del font)\n",
        "          popup_content = f\"\"\"<div style=\"font-size: 16px; font-weight: bold;\"> {bnb['name']} <br> Quartiere: {bnb['neighbourhood_cleansed']} <br> Prezzo: {bnb['price']}$ </div> \"\"\"\n",
        "\n",
        "          # Crea il marker\n",
        "          folium.Marker(\n",
        "\n",
        "              location=[bnb['latitude'], bnb['longitude']],  # Posizione del marker\n",
        "\n",
        "              popup=folium.Popup(popup_content, max_width=300),  # Popup personalizzato\n",
        "\n",
        "              tooltip=\"Clicca per maggiori informazioni\",  # Testo del tooltip\n",
        "\n",
        "              icon=folium.Icon(icon=\"info-sign\", color=\"red\")  # Icona del marker\n",
        "\n",
        "          ).add_to(marker_clusters[rating])  # Aggiunge il marker al gruppo di cluster corrispondente\n",
        "\n",
        "          marker_counters[rating] += 1  # Incrementa il contatore per quel gruppo di valutazione\n",
        "\n",
        "\n",
        "# Aggiungi layer control per permettere la selezione dei gruppi di valutazione\n",
        "folium.LayerControl().add_to(mappa)\n",
        "\n",
        "\n",
        "# Visualizza la mappa\n",
        "mappa\n"
      ],
      "metadata": {
        "id": "XH24RpaayxZM"
      },
      "execution_count": null,
      "outputs": []
    }
  ],
  "metadata": {
    "colab": {
      "provenance": [],
      "authorship_tag": "ABX9TyPP4TpB3N2CGrA7zlE8ECfO",
      "include_colab_link": true
    },
    "kernelspec": {
      "display_name": "Python 3",
      "name": "python3"
    },
    "language_info": {
      "name": "python"
    }
  },
  "nbformat": 4,
  "nbformat_minor": 0
}